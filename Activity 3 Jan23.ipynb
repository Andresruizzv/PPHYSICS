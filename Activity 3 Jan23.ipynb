{
 "cells": [
  {
   "cell_type": "code",
   "execution_count": 43,
   "id": "e1fbcf0a-be52-48a2-9e7a-b4340dac453e",
   "metadata": {},
   "outputs": [
    {
     "name": "stdout",
     "output_type": "stream",
     "text": [
      "Estimaded Pi: 3.14156644\n"
     ]
    }
   ],
   "source": [
    "import random\n",
    "\n",
    "num_samples = 100000000 # numero de pruebas/intentos que se haran o agujas caeran.\n",
    "inside_circle = 0 \n",
    "\n",
    "for i in range(num_samples): #para crear loop, hasta num de i(paso que vas)\n",
    "    x = random.uniform(-1, 1) #define las coordenadas en x del ciruclo/parametros\n",
    "    y = random.uniform(-1, 1) # define las coordenadas en y del ciruclo/parametros\n",
    "    if x**2 + y**2 <=1:\n",
    "         inside_circle += 1 #\n",
    "\n",
    "pi_estimate = 4 * inside_circle / num_samples #formula para estimar pi\n",
    "print(f\"Estimaded Pi: {pi_estimate}\") #dar el resultado de la simulacion\n",
    "    "
   ]
  },
  {
   "cell_type": "code",
   "execution_count": null,
   "id": "ebe4b8bc-e37e-44f4-8ce8-a6a8e081e523",
   "metadata": {},
   "outputs": [],
   "source": []
  }
 ],
 "metadata": {
  "kernelspec": {
   "display_name": "Python [conda env:base] *",
   "language": "python",
   "name": "conda-base-py"
  },
  "language_info": {
   "codemirror_mode": {
    "name": "ipython",
    "version": 3
   },
   "file_extension": ".py",
   "mimetype": "text/x-python",
   "name": "python",
   "nbconvert_exporter": "python",
   "pygments_lexer": "ipython3",
   "version": "3.12.7"
  }
 },
 "nbformat": 4,
 "nbformat_minor": 5
}
